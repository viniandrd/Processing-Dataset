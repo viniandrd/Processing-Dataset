{
 "cells": [
  {
   "cell_type": "code",
   "execution_count": 1,
   "metadata": {},
   "outputs": [],
   "source": [
    "import scipy, numpy, shutil, os, nibabel, imageio, glob\n",
    "from pathlib import Path"
   ]
  },
  {
   "cell_type": "code",
   "execution_count": 3,
   "metadata": {
    "pycharm": {
     "name": "#%%\n"
    }
   },
   "outputs": [
    {
     "name": "stdout",
     "output_type": "stream",
     "text": [
      "-----\n",
      "(240x240x155) -> 3 dimensions \n",
      "Slices:  155\n",
      "-----\n"
     ]
    },
    {
     "name": "stderr",
     "output_type": "stream",
     "text": [
      "<ipython-input-3-a50ab8ff1169>:3: DeprecationWarning: get_data() is deprecated in favor of get_fdata(), which has a more predictable return type. To obtain get_data() behavior going forward, use numpy.asanyarray(img.dataobj).\n",
      "\n",
      "* deprecated from version: 3.0\n",
      "* Will raise <class 'nibabel.deprecator.ExpiredDeprecationError'> as of version: 5.0\n",
      "  image_array = nibabel.load(input_file).get_data()\n"
     ]
    }
   ],
   "source": [
    "input_file = '/home/vinicius/Documentos/BraTS19/HGG/BraTS19_2013_2_1/BraTS19_2013_2_1_t1ce.nii.gz'\n",
    "\n",
    "image_array = nibabel.load(input_file).get_data()\n",
    "nx, ny, nz = image_array.shape\n",
    "print('-----')\n",
    "print('({}x{}x{}) -> {} dimensions '.format(nx, ny, nz, len(image_array.shape)))\n",
    "\n",
    "total_slices = image_array.shape[2]\n",
    "print('Slices: ', total_slices)\n",
    "print('-----')\n",
    "\n"
   ]
  }
 ],
 "metadata": {
  "kernelspec": {
   "display_name": "PyCharm (Processing-Dataset)",
   "language": "python",
   "name": "pycharm-5e3a2bbf"
  },
  "language_info": {
   "codemirror_mode": {
    "name": "ipython",
    "version": 3
   },
   "file_extension": ".py",
   "mimetype": "text/x-python",
   "name": "python",
   "nbconvert_exporter": "python",
   "pygments_lexer": "ipython3",
   "version": "3.8.5"
  }
 },
 "nbformat": 4,
 "nbformat_minor": 1
}
